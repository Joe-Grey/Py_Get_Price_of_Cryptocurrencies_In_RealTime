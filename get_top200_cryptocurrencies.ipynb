{
 "metadata": {
  "language_info": {
   "codemirror_mode": {
    "name": "ipython",
    "version": 3
   },
   "file_extension": ".py",
   "mimetype": "text/x-python",
   "name": "python",
   "nbconvert_exporter": "python",
   "pygments_lexer": "ipython3",
   "version": "3.9.2-final"
  },
  "orig_nbformat": 2,
  "kernelspec": {
   "name": "python3",
   "display_name": "Python 3.9.2 64-bit ('.venv': venv)",
   "metadata": {
    "interpreter": {
     "hash": "a5987c1c8dd3fc2042e17ca4616beffccadb09bf7f236403be6611b34dda6dc0"
    }
   }
  }
 },
 "nbformat": 4,
 "nbformat_minor": 2,
 "cells": [
  {
   "cell_type": "code",
   "execution_count": 1,
   "metadata": {},
   "outputs": [
    {
     "output_type": "stream",
     "name": "stdout",
     "text": [
      "Requirement already satisfied: ipykernel in ./.venv/lib/python3.9/site-packages (from -r requirements.txt (line 1)) (5.5.0)\n",
      "Requirement already satisfied: requests in ./.venv/lib/python3.9/site-packages (from -r requirements.txt (line 2)) (2.25.1)\n",
      "Requirement already satisfied: beautifulsoup4 in ./.venv/lib/python3.9/site-packages (from -r requirements.txt (line 3)) (4.9.3)\n",
      "Requirement already satisfied: lxml in ./.venv/lib/python3.9/site-packages (from -r requirements.txt (line 4)) (4.6.2)\n",
      "Requirement already satisfied: soupsieve>1.2 in ./.venv/lib/python3.9/site-packages (from beautifulsoup4->-r requirements.txt (line 3)) (2.2)\n",
      "Requirement already satisfied: tornado>=4.2 in ./.venv/lib/python3.9/site-packages (from ipykernel->-r requirements.txt (line 1)) (6.1)\n",
      "Requirement already satisfied: ipython>=5.0.0 in ./.venv/lib/python3.9/site-packages (from ipykernel->-r requirements.txt (line 1)) (7.21.0)\n",
      "Requirement already satisfied: jupyter-client in ./.venv/lib/python3.9/site-packages (from ipykernel->-r requirements.txt (line 1)) (6.1.11)\n",
      "Requirement already satisfied: appnope in ./.venv/lib/python3.9/site-packages (from ipykernel->-r requirements.txt (line 1)) (0.1.2)\n",
      "Requirement already satisfied: traitlets>=4.1.0 in ./.venv/lib/python3.9/site-packages (from ipykernel->-r requirements.txt (line 1)) (5.0.5)\n",
      "Requirement already satisfied: jedi>=0.16 in ./.venv/lib/python3.9/site-packages (from ipython>=5.0.0->ipykernel->-r requirements.txt (line 1)) (0.18.0)\n",
      "Requirement already satisfied: prompt-toolkit!=3.0.0,!=3.0.1,<3.1.0,>=2.0.0 in ./.venv/lib/python3.9/site-packages (from ipython>=5.0.0->ipykernel->-r requirements.txt (line 1)) (3.0.16)\n",
      "Requirement already satisfied: backcall in ./.venv/lib/python3.9/site-packages (from ipython>=5.0.0->ipykernel->-r requirements.txt (line 1)) (0.2.0)\n",
      "Requirement already satisfied: setuptools>=18.5 in ./.venv/lib/python3.9/site-packages (from ipython>=5.0.0->ipykernel->-r requirements.txt (line 1)) (52.0.0)\n",
      "Requirement already satisfied: pexpect>4.3 in ./.venv/lib/python3.9/site-packages (from ipython>=5.0.0->ipykernel->-r requirements.txt (line 1)) (4.8.0)\n",
      "Requirement already satisfied: pygments in ./.venv/lib/python3.9/site-packages (from ipython>=5.0.0->ipykernel->-r requirements.txt (line 1)) (2.8.0)\n",
      "Requirement already satisfied: decorator in ./.venv/lib/python3.9/site-packages (from ipython>=5.0.0->ipykernel->-r requirements.txt (line 1)) (4.4.2)\n",
      "Requirement already satisfied: pickleshare in ./.venv/lib/python3.9/site-packages (from ipython>=5.0.0->ipykernel->-r requirements.txt (line 1)) (0.7.5)\n",
      "Requirement already satisfied: parso<0.9.0,>=0.8.0 in ./.venv/lib/python3.9/site-packages (from jedi>=0.16->ipython>=5.0.0->ipykernel->-r requirements.txt (line 1)) (0.8.1)\n",
      "Requirement already satisfied: ptyprocess>=0.5 in ./.venv/lib/python3.9/site-packages (from pexpect>4.3->ipython>=5.0.0->ipykernel->-r requirements.txt (line 1)) (0.7.0)\n",
      "Requirement already satisfied: wcwidth in ./.venv/lib/python3.9/site-packages (from prompt-toolkit!=3.0.0,!=3.0.1,<3.1.0,>=2.0.0->ipython>=5.0.0->ipykernel->-r requirements.txt (line 1)) (0.2.5)\n",
      "Requirement already satisfied: ipython-genutils in ./.venv/lib/python3.9/site-packages (from traitlets>=4.1.0->ipykernel->-r requirements.txt (line 1)) (0.2.0)\n",
      "Requirement already satisfied: certifi>=2017.4.17 in ./.venv/lib/python3.9/site-packages (from requests->-r requirements.txt (line 2)) (2020.12.5)\n",
      "Requirement already satisfied: idna<3,>=2.5 in ./.venv/lib/python3.9/site-packages (from requests->-r requirements.txt (line 2)) (2.10)\n",
      "Requirement already satisfied: chardet<5,>=3.0.2 in ./.venv/lib/python3.9/site-packages (from requests->-r requirements.txt (line 2)) (4.0.0)\n",
      "Requirement already satisfied: urllib3<1.27,>=1.21.1 in ./.venv/lib/python3.9/site-packages (from requests->-r requirements.txt (line 2)) (1.26.3)\n",
      "Requirement already satisfied: pyzmq>=13 in ./.venv/lib/python3.9/site-packages (from jupyter-client->ipykernel->-r requirements.txt (line 1)) (22.0.3)\n",
      "Requirement already satisfied: python-dateutil>=2.1 in ./.venv/lib/python3.9/site-packages (from jupyter-client->ipykernel->-r requirements.txt (line 1)) (2.8.1)\n",
      "Requirement already satisfied: jupyter-core>=4.6.0 in ./.venv/lib/python3.9/site-packages (from jupyter-client->ipykernel->-r requirements.txt (line 1)) (4.7.1)\n",
      "Requirement already satisfied: six>=1.5 in ./.venv/lib/python3.9/site-packages (from python-dateutil>=2.1->jupyter-client->ipykernel->-r requirements.txt (line 1)) (1.15.0)\n",
      "Note: you may need to restart the kernel to use updated packages.\n"
     ]
    }
   ],
   "source": [
    "pip install -r requirements.txt"
   ]
  },
  {
   "cell_type": "code",
   "execution_count": 2,
   "metadata": {},
   "outputs": [],
   "source": [
    "# Import the libarires \n",
    "from lxml import html\n",
    "import requests"
   ]
  },
  {
   "cell_type": "code",
   "execution_count": 17,
   "metadata": {},
   "outputs": [
    {
     "output_type": "stream",
     "name": "stdout",
     "text": [
      "Bitcoin\nEthereum\nCardano\nBinance Coin\nTether\nPolkadot\nXRP\nLitecoin\nChainlink\nStellar\nBitcoin Cash\nUSD Coin\nUniswap\nDogecoin\nWrapped Bitcoin\nNEM\nAave\nCosmos\nMonero\nSolana\nCrypto.com Coin\nEOS\nBitcoin SV\nTRON\nIOTA\nTHETA\nHuobi Token\nTezos\nNeo\nFTX Token\nVeChain\nElrond\nTerra\nBinance USD\nDai\nSynthetix\nThe Graph\nDash\nFilecoin\nSushiSwap\nAlgorand\nAvalanche\nUNUS SED LEO\nMaker\nCompound\nKusama\nDecred\nPancakeSwap\nZcash\nEthereum Classic\nZilliqa\nVoyager Token\nBitTorrent\nNEAR Protocol\nRavencoin\nFantom\nyearn.finance\nUMA\nCelsius\nNexo\nTHORChain\nOKB\nRen\nPolygon\nRevain\n0x\nWaves\nICON\nHedera Hashgraph\nSwissBorg\nrenBTC\nBasic Attention Token\nStacks\nDigiByte\nOntology\nCelo\nNano\nHUSD\nBancor\nBitcoin BEP2\nPaxos Standard\nTerraUSD\nIOST\nOMG Network\nLoopring\n1inch\nHorizen\nQtum\nTheta Fuel\nReserve Rights\nPundi X\nEnjin Coin\nSiacoin\nFlow\nBitcoin Gold\nHolo\nCurve DAO Token\nVenus\nDODO\nQuant\nDecentraland\nLisk\nKuCoin Token\nEnergy Web Token\nOcean Protocol\nArweave\nGolem\nTrueUSD\nKyber Network\nAugur\nStatus\nVerge\nTrustSwap\nChiliz\nNervos Network\nNuCypher\nSerum\nHelium\nAmpleforth\nBalancer\nBand Protocol\nHarmony\nCivic\nPolkastarter\nAlpha Finance Lab\nBitcoin Standard Hashrate Token\nSecret\nIoTeX\nKava.io\nPolymath\nFunFair\nSwipe\nInjective Protocol\nZB Token\nFetch.ai\nBitcoin Diamond\nGnosis\nNumeraire\nMaidSafeCoin\nAnkr\nUnibright\nSingularityNET\nOrchid\nRSK Infrastructure Framework\nArk\nSteem\nABBC Coin\nVai\nTelcoin\nAragon\nArdor\nKomodo\nsaffron.finance\nStorj\nDent\nTomoChain\nStratis\nUtrust\nLitentry\nVeThor Token\nOasis Network\nOriginTrail\nKin\ndistrict0x\nCOTI\nWanchain\naelf\nHifi Finance\nBORA\nBitShares\nSyntropy\nTravala.com\nPAX Gold\nCyberVein\nCeler Network\nMonaCoin\nWAX\nLoom Network\nReddCoin\nGemini Dollar\nWootrade\nHive\nBytom\niExec RLC\nUnifi Protocol DAO\nHandshake\nGateToken\nBadger DAO\nHuobi Pool Token\nJUST\nElectroneum\nAdEx Network\nGas\nxDai\nErgo\nIRISnet\nAion\nPower Ledger\nReef\nPrometeus\nFailed after: 201\n"
     ]
    }
   ],
   "source": [
    "url = 'https://coinmarketcap.com/all/views/all/'\n",
    "\n",
    "#Make request to website\n",
    "HTML = requests.get(url)\n",
    "\n",
    "#Parse the HTML\n",
    "tree = html.fromstring(HTML.content)\n",
    "\n",
    "crypto_currency_list = []\n",
    "search_number = 1\n",
    "\n",
    "# Extract the different crypto currencies from the table\n",
    "while True:\n",
    "    try:\n",
    "        xpath = f'/html/body/div[1]/div[1]/div[2]/div/div[1]/div/div[2]/div[3]/div/table/tbody/tr[{search_number}]/td[2]/div/a'\n",
    "        title = tree.xpath(xpath)\n",
    "        crypto_currency_list.append(str(title[0].text))\n",
    "        print(title[0].text)\n",
    "        search_number += 1\n",
    "    except:\n",
    "        print(f'Failed after: {search_number}')\n",
    "        break\n"
   ]
  },
  {
   "cell_type": "code",
   "execution_count": null,
   "metadata": {},
   "outputs": [],
   "source": []
  }
 ]
}