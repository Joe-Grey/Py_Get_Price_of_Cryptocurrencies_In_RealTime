{
 "metadata": {
  "language_info": {
   "codemirror_mode": {
    "name": "ipython",
    "version": 3
   },
   "file_extension": ".py",
   "mimetype": "text/x-python",
   "name": "python",
   "nbconvert_exporter": "python",
   "pygments_lexer": "ipython3",
   "version": "3.9.2-final"
  },
  "orig_nbformat": 2,
  "kernelspec": {
   "name": "python3",
   "display_name": "Python 3.9.2 64-bit ('.venv')",
   "metadata": {
    "interpreter": {
     "hash": "a5987c1c8dd3fc2042e17ca4616beffccadb09bf7f236403be6611b34dda6dc0"
    }
   }
  }
 },
 "nbformat": 4,
 "nbformat_minor": 2,
 "cells": [
  {
   "cell_type": "code",
   "execution_count": 1,
   "metadata": {},
   "outputs": [
    {
     "output_type": "stream",
     "name": "stdout",
     "text": [
      "Requirement already satisfied: ipykernel in ./.venv/lib/python3.9/site-packages (from -r requirements.txt (line 1)) (5.5.0)\n",
      "Requirement already satisfied: requests in ./.venv/lib/python3.9/site-packages (from -r requirements.txt (line 2)) (2.25.1)\n",
      "Requirement already satisfied: beautifulsoup4 in ./.venv/lib/python3.9/site-packages (from -r requirements.txt (line 3)) (4.9.3)\n",
      "Requirement already satisfied: lxml in ./.venv/lib/python3.9/site-packages (from -r requirements.txt (line 4)) (4.6.2)\n",
      "Requirement already satisfied: selenium in ./.venv/lib/python3.9/site-packages (from -r requirements.txt (line 5)) (3.141.0)\n",
      "Requirement already satisfied: soupsieve>1.2 in ./.venv/lib/python3.9/site-packages (from beautifulsoup4->-r requirements.txt (line 3)) (2.2)\n",
      "Requirement already satisfied: ipython>=5.0.0 in ./.venv/lib/python3.9/site-packages (from ipykernel->-r requirements.txt (line 1)) (7.21.0)\n",
      "Requirement already satisfied: tornado>=4.2 in ./.venv/lib/python3.9/site-packages (from ipykernel->-r requirements.txt (line 1)) (6.1)\n",
      "Requirement already satisfied: jupyter-client in ./.venv/lib/python3.9/site-packages (from ipykernel->-r requirements.txt (line 1)) (6.1.11)\n",
      "Requirement already satisfied: traitlets>=4.1.0 in ./.venv/lib/python3.9/site-packages (from ipykernel->-r requirements.txt (line 1)) (5.0.5)\n",
      "Requirement already satisfied: appnope in ./.venv/lib/python3.9/site-packages (from ipykernel->-r requirements.txt (line 1)) (0.1.2)\n",
      "Requirement already satisfied: pexpect>4.3 in ./.venv/lib/python3.9/site-packages (from ipython>=5.0.0->ipykernel->-r requirements.txt (line 1)) (4.8.0)\n",
      "Requirement already satisfied: prompt-toolkit!=3.0.0,!=3.0.1,<3.1.0,>=2.0.0 in ./.venv/lib/python3.9/site-packages (from ipython>=5.0.0->ipykernel->-r requirements.txt (line 1)) (3.0.16)\n",
      "Requirement already satisfied: setuptools>=18.5 in ./.venv/lib/python3.9/site-packages (from ipython>=5.0.0->ipykernel->-r requirements.txt (line 1)) (52.0.0)\n",
      "Requirement already satisfied: pickleshare in ./.venv/lib/python3.9/site-packages (from ipython>=5.0.0->ipykernel->-r requirements.txt (line 1)) (0.7.5)\n",
      "Requirement already satisfied: jedi>=0.16 in ./.venv/lib/python3.9/site-packages (from ipython>=5.0.0->ipykernel->-r requirements.txt (line 1)) (0.18.0)\n",
      "Requirement already satisfied: decorator in ./.venv/lib/python3.9/site-packages (from ipython>=5.0.0->ipykernel->-r requirements.txt (line 1)) (4.4.2)\n",
      "Requirement already satisfied: pygments in ./.venv/lib/python3.9/site-packages (from ipython>=5.0.0->ipykernel->-r requirements.txt (line 1)) (2.8.0)\n",
      "Requirement already satisfied: backcall in ./.venv/lib/python3.9/site-packages (from ipython>=5.0.0->ipykernel->-r requirements.txt (line 1)) (0.2.0)\n",
      "Requirement already satisfied: parso<0.9.0,>=0.8.0 in ./.venv/lib/python3.9/site-packages (from jedi>=0.16->ipython>=5.0.0->ipykernel->-r requirements.txt (line 1)) (0.8.1)\n",
      "Requirement already satisfied: ptyprocess>=0.5 in ./.venv/lib/python3.9/site-packages (from pexpect>4.3->ipython>=5.0.0->ipykernel->-r requirements.txt (line 1)) (0.7.0)\n",
      "Requirement already satisfied: wcwidth in ./.venv/lib/python3.9/site-packages (from prompt-toolkit!=3.0.0,!=3.0.1,<3.1.0,>=2.0.0->ipython>=5.0.0->ipykernel->-r requirements.txt (line 1)) (0.2.5)\n",
      "Requirement already satisfied: ipython-genutils in ./.venv/lib/python3.9/site-packages (from traitlets>=4.1.0->ipykernel->-r requirements.txt (line 1)) (0.2.0)\n",
      "Requirement already satisfied: certifi>=2017.4.17 in ./.venv/lib/python3.9/site-packages (from requests->-r requirements.txt (line 2)) (2020.12.5)\n",
      "Requirement already satisfied: urllib3<1.27,>=1.21.1 in ./.venv/lib/python3.9/site-packages (from requests->-r requirements.txt (line 2)) (1.26.3)\n",
      "Requirement already satisfied: chardet<5,>=3.0.2 in ./.venv/lib/python3.9/site-packages (from requests->-r requirements.txt (line 2)) (4.0.0)\n",
      "Requirement already satisfied: idna<3,>=2.5 in ./.venv/lib/python3.9/site-packages (from requests->-r requirements.txt (line 2)) (2.10)\n",
      "Requirement already satisfied: jupyter-core>=4.6.0 in ./.venv/lib/python3.9/site-packages (from jupyter-client->ipykernel->-r requirements.txt (line 1)) (4.7.1)\n",
      "Requirement already satisfied: python-dateutil>=2.1 in ./.venv/lib/python3.9/site-packages (from jupyter-client->ipykernel->-r requirements.txt (line 1)) (2.8.1)\n",
      "Requirement already satisfied: pyzmq>=13 in ./.venv/lib/python3.9/site-packages (from jupyter-client->ipykernel->-r requirements.txt (line 1)) (22.0.3)\n",
      "Requirement already satisfied: six>=1.5 in ./.venv/lib/python3.9/site-packages (from python-dateutil>=2.1->jupyter-client->ipykernel->-r requirements.txt (line 1)) (1.15.0)\n",
      "Note: you may need to restart the kernel to use updated packages.\n"
     ]
    }
   ],
   "source": [
    "pip install -r requirements.txt"
   ]
  },
  {
   "cell_type": "code",
   "execution_count": 2,
   "metadata": {},
   "outputs": [],
   "source": [
    "class bcolours:\n",
    "    HEADER = '\\033[95m'\n",
    "    WHITE = '\\033[37m'\n",
    "    OKBLUE = '\\033[94m'\n",
    "    OKCYAN = '\\033[96m'\n",
    "    OKGREEN = '\\033[92m'\n",
    "    WARNING = '\\033[93m'\n",
    "    FAIL = '\\033[91m'\n",
    "    ENDC = '\\033[0m'\n",
    "    BOLD = '\\033[1m'\n",
    "    UNDERLINE = '\\033[4m'"
   ]
  },
  {
   "cell_type": "code",
   "execution_count": 3,
   "metadata": {},
   "outputs": [],
   "source": [
    "from selenium import webdriver  #importing selenium to use website in the background\n",
    "from selenium.webdriver.chrome.options import Options  #allows headless setting to be used for Chrome\n",
    "import time\n",
    "import csv"
   ]
  },
  {
   "cell_type": "code",
   "execution_count": 4,
   "metadata": {},
   "outputs": [],
   "source": [
    "url = 'https://coinmarketcap.com/all/views/all/'\n",
    "DRIVER_PATH = '/Users/joegrey/Code/chromedriver'\n",
    "\n",
    "#changes settings so when is will be headless browser when opened up later\n",
    "options = Options()\n",
    "options.headless = True\n",
    "\n",
    "driver = webdriver.Chrome(options=options, executable_path=DRIVER_PATH) #opens headless browser\n",
    "driver.get(url)\n"
   ]
  },
  {
   "cell_type": "code",
   "execution_count": 5,
   "metadata": {},
   "outputs": [
    {
     "output_type": "stream",
     "name": "stdout",
     "text": [
      "\u001b[92mProcessed: 201 of 8610\u001b[96m\t8409 remaining\n",
      "\u001b[92mProcessed: 401 of 8610\u001b[96m\t8209 remaining\n",
      "\u001b[92mProcessed: 601 of 8610\u001b[96m\t8009 remaining\n",
      "\u001b[92mProcessed: 801 of 8610\u001b[96m\t7809 remaining\n",
      "\u001b[92mProcessed: 1001 of 8610\u001b[96m\t7609 remaining\n",
      "\u001b[92mProcessed: 1201 of 8610\u001b[96m\t7409 remaining\n",
      "\u001b[92mProcessed: 1401 of 8610\u001b[96m\t7209 remaining\n",
      "\u001b[92mProcessed: 1601 of 8610\u001b[96m\t7009 remaining\n",
      "\u001b[92mProcessed: 1801 of 8610\u001b[96m\t6809 remaining\n",
      "\u001b[92mProcessed: 2001 of 8610\u001b[96m\t6609 remaining\n",
      "\u001b[92mProcessed: 2201 of 8610\u001b[96m\t6409 remaining\n",
      "\u001b[92mProcessed: 2401 of 8610\u001b[96m\t6209 remaining\n",
      "\u001b[92mProcessed: 2601 of 8610\u001b[96m\t6009 remaining\n",
      "\u001b[92mProcessed: 2801 of 8610\u001b[96m\t5809 remaining\n",
      "\u001b[92mProcessed: 3001 of 8610\u001b[96m\t5609 remaining\n",
      "\u001b[92mProcessed: 3201 of 8610\u001b[96m\t5409 remaining\n",
      "\u001b[92mProcessed: 3401 of 8610\u001b[96m\t5209 remaining\n",
      "\u001b[92mProcessed: 3601 of 8610\u001b[96m\t5009 remaining\n",
      "\u001b[92mProcessed: 3801 of 8610\u001b[96m\t4809 remaining\n",
      "\u001b[92mProcessed: 4001 of 8610\u001b[96m\t4609 remaining\n",
      "Failed after: 4197\n",
      "Message: no such element: Unable to locate element: {\"method\":\"xpath\",\"selector\":\"/html/body/div[1]/div[1]/div[2]/div/div[1]/div/div[2]/div[3]/div/table/tbody/tr[4197]/td[2]/div/a\"}\n",
      "  (Session info: headless chrome=88.0.4324.192)\n",
      "\n"
     ]
    }
   ],
   "source": [
    "num_currencies = driver.find_element_by_xpath('/html/body/div[1]/div[1]/div[1]/div[1]/div[1]/div/div[1]/span[1]/a').get_attribute('innerHTML')\n",
    "num_currencies = int(''.join(filter(str.isdigit, num_currencies)))\n",
    "crypto_currency_list = []\n",
    "search_number = 1\n",
    "next_round = False\n",
    "\n",
    "load_more_button_xpath = '/html/body/div[1]/div[1]/div[2]/div/div[1]/div/div[3]/button'\n",
    "\n",
    "# Extract the different crypto currencies from the table\n",
    "while True:\n",
    "    try:\n",
    "        if search_number == 1:\n",
    "            driver.execute_script(\"window.scrollTo(0,document.body.scrollHeight)\")\n",
    "        if next_round == True:\n",
    "            print(bcolours.OKGREEN + 'Processed: ' + str(search_number) + ' of ' + str(num_currencies) + bcolours.OKCYAN + '\\t' + str(int(num_currencies) - int(search_number)) + ' remaining')\n",
    "            driver.find_element_by_xpath(load_more_button_xpath).click()\n",
    "            next_round = False\n",
    "            time.sleep(10)\n",
    "            driver.execute_script(\"window.scrollTo(0,document.body.scrollHeight)\")\n",
    "        \n",
    "        xpath = f'/html/body/div[1]/div[1]/div[2]/div/div[1]/div/div[2]/div[3]/div/table/tbody/tr[{search_number}]/td[2]/div/a'\n",
    "        crypto_currency_list.append(str(driver.find_element_by_xpath(xpath).text))\n",
    "        \n",
    "        if search_number % 200 == 0:\n",
    "            next_round = True\n",
    "\n",
    "        search_number += 1\n",
    "    except Exception as e:\n",
    "        print(f'Failed after: {search_number}')\n",
    "        print(e)\n",
    "        break"
   ]
  },
  {
   "cell_type": "code",
   "execution_count": 6,
   "metadata": {},
   "outputs": [
    {
     "output_type": "stream",
     "name": "stdout",
     "text": [
      "closing driver\n"
     ]
    }
   ],
   "source": [
    "print('closing driver')\n",
    "driver.quit() #closes headless browser"
   ]
  },
  {
   "cell_type": "code",
   "execution_count": 7,
   "metadata": {},
   "outputs": [
    {
     "output_type": "stream",
     "name": "stdout",
     "text": [
      "Total number of currencies:\t 8610\nNumber of currenciesscraped:\t 4196\n"
     ]
    }
   ],
   "source": [
    "print('Total number of currencies:\\t', num_currencies)\n",
    "print('Number of currenciesscraped:\\t', len(crypto_currency_list))"
   ]
  },
  {
   "cell_type": "code",
   "execution_count": 8,
   "metadata": {},
   "outputs": [],
   "source": [
    "with open('crypto_currency_list.csv', mode='w') as crypto_file:\n",
    "    crypto_writer = csv.writer(crypto_file, delimiter=',', quotechar='\"', quoting=csv.QUOTE_MINIMAL)\n",
    "    for c in crypto_currency_list:\n",
    "        crypto_writer.writerow([c])"
   ]
  },
  {
   "cell_type": "code",
   "execution_count": null,
   "metadata": {},
   "outputs": [],
   "source": []
  }
 ]
}