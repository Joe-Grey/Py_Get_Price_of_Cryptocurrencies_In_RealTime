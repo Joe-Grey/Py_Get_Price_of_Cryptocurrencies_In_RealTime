{
 "metadata": {
  "language_info": {
   "codemirror_mode": {
    "name": "ipython",
    "version": 3
   },
   "file_extension": ".py",
   "mimetype": "text/x-python",
   "name": "python",
   "nbconvert_exporter": "python",
   "pygments_lexer": "ipython3",
   "version": "3.9.2-final"
  },
  "orig_nbformat": 2,
  "kernelspec": {
   "name": "python3",
   "display_name": "Python 3.9.2 64-bit ('.venv')",
   "metadata": {
    "interpreter": {
     "hash": "a5987c1c8dd3fc2042e17ca4616beffccadb09bf7f236403be6611b34dda6dc0"
    }
   }
  }
 },
 "nbformat": 4,
 "nbformat_minor": 2,
 "cells": [
  {
   "cell_type": "code",
   "execution_count": 1,
   "metadata": {},
   "outputs": [],
   "source": [
    "STOCK_TICKER = 'BTC-EUR'\n",
    "GET_STOCK_FROM_SELECTED_STOCK_START_DATE = '2012-01-01'"
   ]
  },
  {
   "cell_type": "code",
   "execution_count": 2,
   "metadata": {},
   "outputs": [
    {
     "output_type": "stream",
     "name": "stdout",
     "text": [
      "Requirement already satisfied: ipykernel in ./.venv/lib/python3.9/site-packages (from -r requirements.txt (line 1)) (5.5.0)\n",
      "Requirement already satisfied: requests in ./.venv/lib/python3.9/site-packages (from -r requirements.txt (line 2)) (2.25.1)\n",
      "Requirement already satisfied: beautifulsoup4 in ./.venv/lib/python3.9/site-packages (from -r requirements.txt (line 3)) (4.9.3)\n",
      "Requirement already satisfied: lxml in ./.venv/lib/python3.9/site-packages (from -r requirements.txt (line 4)) (4.6.2)\n",
      "Requirement already satisfied: selenium in ./.venv/lib/python3.9/site-packages (from -r requirements.txt (line 5)) (3.141.0)\n",
      "Requirement already satisfied: yfinance in ./.venv/lib/python3.9/site-packages (from -r requirements.txt (line 6)) (0.1.55)\n",
      "Requirement already satisfied: pandas in ./.venv/lib/python3.9/site-packages (from -r requirements.txt (line 7)) (1.2.2)\n",
      "Requirement already satisfied: numpy in ./.venv/lib/python3.9/site-packages (from -r requirements.txt (line 8)) (1.20.1)\n",
      "Requirement already satisfied: pandas_datareader in ./.venv/lib/python3.9/site-packages (from -r requirements.txt (line 9)) (0.9.0)\n",
      "Requirement already satisfied: soupsieve>1.2 in ./.venv/lib/python3.9/site-packages (from beautifulsoup4->-r requirements.txt (line 3)) (2.2)\n",
      "Requirement already satisfied: jupyter-client in ./.venv/lib/python3.9/site-packages (from ipykernel->-r requirements.txt (line 1)) (6.1.11)\n",
      "Requirement already satisfied: traitlets>=4.1.0 in ./.venv/lib/python3.9/site-packages (from ipykernel->-r requirements.txt (line 1)) (5.0.5)\n",
      "Requirement already satisfied: appnope in ./.venv/lib/python3.9/site-packages (from ipykernel->-r requirements.txt (line 1)) (0.1.2)\n",
      "Requirement already satisfied: tornado>=4.2 in ./.venv/lib/python3.9/site-packages (from ipykernel->-r requirements.txt (line 1)) (6.1)\n",
      "Requirement already satisfied: ipython>=5.0.0 in ./.venv/lib/python3.9/site-packages (from ipykernel->-r requirements.txt (line 1)) (7.21.0)\n",
      "Requirement already satisfied: pygments in ./.venv/lib/python3.9/site-packages (from ipython>=5.0.0->ipykernel->-r requirements.txt (line 1)) (2.8.0)\n",
      "Requirement already satisfied: jedi>=0.16 in ./.venv/lib/python3.9/site-packages (from ipython>=5.0.0->ipykernel->-r requirements.txt (line 1)) (0.18.0)\n",
      "Requirement already satisfied: setuptools>=18.5 in ./.venv/lib/python3.9/site-packages (from ipython>=5.0.0->ipykernel->-r requirements.txt (line 1)) (52.0.0)\n",
      "Requirement already satisfied: decorator in ./.venv/lib/python3.9/site-packages (from ipython>=5.0.0->ipykernel->-r requirements.txt (line 1)) (4.4.2)\n",
      "Requirement already satisfied: pickleshare in ./.venv/lib/python3.9/site-packages (from ipython>=5.0.0->ipykernel->-r requirements.txt (line 1)) (0.7.5)\n",
      "Requirement already satisfied: pexpect>4.3 in ./.venv/lib/python3.9/site-packages (from ipython>=5.0.0->ipykernel->-r requirements.txt (line 1)) (4.8.0)\n",
      "Requirement already satisfied: prompt-toolkit!=3.0.0,!=3.0.1,<3.1.0,>=2.0.0 in ./.venv/lib/python3.9/site-packages (from ipython>=5.0.0->ipykernel->-r requirements.txt (line 1)) (3.0.16)\n",
      "Requirement already satisfied: backcall in ./.venv/lib/python3.9/site-packages (from ipython>=5.0.0->ipykernel->-r requirements.txt (line 1)) (0.2.0)\n",
      "Requirement already satisfied: parso<0.9.0,>=0.8.0 in ./.venv/lib/python3.9/site-packages (from jedi>=0.16->ipython>=5.0.0->ipykernel->-r requirements.txt (line 1)) (0.8.1)\n",
      "Requirement already satisfied: ptyprocess>=0.5 in ./.venv/lib/python3.9/site-packages (from pexpect>4.3->ipython>=5.0.0->ipykernel->-r requirements.txt (line 1)) (0.7.0)\n",
      "Requirement already satisfied: wcwidth in ./.venv/lib/python3.9/site-packages (from prompt-toolkit!=3.0.0,!=3.0.1,<3.1.0,>=2.0.0->ipython>=5.0.0->ipykernel->-r requirements.txt (line 1)) (0.2.5)\n",
      "Requirement already satisfied: ipython-genutils in ./.venv/lib/python3.9/site-packages (from traitlets>=4.1.0->ipykernel->-r requirements.txt (line 1)) (0.2.0)\n",
      "Requirement already satisfied: pytz>=2017.3 in ./.venv/lib/python3.9/site-packages (from pandas->-r requirements.txt (line 7)) (2021.1)\n",
      "Requirement already satisfied: python-dateutil>=2.7.3 in ./.venv/lib/python3.9/site-packages (from pandas->-r requirements.txt (line 7)) (2.8.1)\n",
      "Requirement already satisfied: six>=1.5 in ./.venv/lib/python3.9/site-packages (from python-dateutil>=2.7.3->pandas->-r requirements.txt (line 7)) (1.15.0)\n",
      "Requirement already satisfied: certifi>=2017.4.17 in ./.venv/lib/python3.9/site-packages (from requests->-r requirements.txt (line 2)) (2020.12.5)\n",
      "Requirement already satisfied: idna<3,>=2.5 in ./.venv/lib/python3.9/site-packages (from requests->-r requirements.txt (line 2)) (2.10)\n",
      "Requirement already satisfied: chardet<5,>=3.0.2 in ./.venv/lib/python3.9/site-packages (from requests->-r requirements.txt (line 2)) (4.0.0)\n",
      "Requirement already satisfied: urllib3<1.27,>=1.21.1 in ./.venv/lib/python3.9/site-packages (from requests->-r requirements.txt (line 2)) (1.26.3)\n",
      "Requirement already satisfied: multitasking>=0.0.7 in ./.venv/lib/python3.9/site-packages (from yfinance->-r requirements.txt (line 6)) (0.0.9)\n",
      "Requirement already satisfied: pyzmq>=13 in ./.venv/lib/python3.9/site-packages (from jupyter-client->ipykernel->-r requirements.txt (line 1)) (22.0.3)\n",
      "Requirement already satisfied: jupyter-core>=4.6.0 in ./.venv/lib/python3.9/site-packages (from jupyter-client->ipykernel->-r requirements.txt (line 1)) (4.7.1)\n",
      "Note: you may need to restart the kernel to use updated packages.\n"
     ]
    }
   ],
   "source": [
    "pip install -r requirements.txt"
   ]
  },
  {
   "cell_type": "code",
   "execution_count": 3,
   "metadata": {},
   "outputs": [],
   "source": [
    "# import libaries\n",
    "import datetime as dt\n",
    "from datetime import timedelta\n",
    "import pandas_datareader as web\n",
    "import numpy as np\n",
    "import pandas as pd\n",
    "import requests"
   ]
  },
  {
   "cell_type": "code",
   "execution_count": 4,
   "metadata": {},
   "outputs": [
    {
     "output_type": "stream",
     "name": "stdout",
     "text": [
      "2021-02-26\n"
     ]
    }
   ],
   "source": [
    "# Getting yesterdays date\n",
    "yesterday_date = dt.date.today() - dt.timedelta(days=1)\n",
    "print(yesterday_date)"
   ]
  },
  {
   "cell_type": "code",
   "execution_count": 5,
   "metadata": {},
   "outputs": [
    {
     "output_type": "execute_result",
     "data": {
      "text/plain": [
       "          Date          High           Low          Open         Close  \\\n",
       "0   2019-09-17   9316.917969   9240.340820   9253.401367   9246.486328   \n",
       "1   2019-09-18   9319.454102   8917.574219   9248.524414   9292.973633   \n",
       "2   2019-09-19   9334.069336   9194.604492   9292.886719   9239.483398   \n",
       "3   2019-09-20   9245.341797   9075.292969   9241.304688   9092.541992   \n",
       "4   2019-09-21   9142.628906   9004.768555   9096.534180   9138.951172   \n",
       "..         ...           ...           ...           ...           ...   \n",
       "520 2021-02-23  44561.277344  37269.808594  44561.277344  40181.332031   \n",
       "521 2021-02-24  42211.421875  38837.585938  40190.105469  40844.414062   \n",
       "522 2021-02-25  42492.488281  38735.164062  40847.492188  38735.164062   \n",
       "523 2021-02-26  40021.406250  36636.480469  38806.402344  38385.910156   \n",
       "524 2021-02-27  39930.019531  38342.480469  38586.417969  38859.753906   \n",
       "\n",
       "           Volume     Adj Close  \n",
       "0    1.466026e+10   9246.486328  \n",
       "1    1.804724e+10   9292.973633  \n",
       "2    1.337076e+10   9239.483398  \n",
       "3    1.218296e+10   9092.541992  \n",
       "4    1.197878e+10   9138.951172  \n",
       "..            ...           ...  \n",
       "520  8.731981e+10  40181.332031  \n",
       "521  5.234058e+10  40844.414062  \n",
       "522  4.483220e+10  38735.164062  \n",
       "523  2.907271e+11  38385.910156  \n",
       "524  4.158009e+10  38859.753906  \n",
       "\n",
       "[525 rows x 7 columns]"
      ],
      "text/html": "<div>\n<style scoped>\n    .dataframe tbody tr th:only-of-type {\n        vertical-align: middle;\n    }\n\n    .dataframe tbody tr th {\n        vertical-align: top;\n    }\n\n    .dataframe thead th {\n        text-align: right;\n    }\n</style>\n<table border=\"1\" class=\"dataframe\">\n  <thead>\n    <tr style=\"text-align: right;\">\n      <th></th>\n      <th>Date</th>\n      <th>High</th>\n      <th>Low</th>\n      <th>Open</th>\n      <th>Close</th>\n      <th>Volume</th>\n      <th>Adj Close</th>\n    </tr>\n  </thead>\n  <tbody>\n    <tr>\n      <th>0</th>\n      <td>2019-09-17</td>\n      <td>9316.917969</td>\n      <td>9240.340820</td>\n      <td>9253.401367</td>\n      <td>9246.486328</td>\n      <td>1.466026e+10</td>\n      <td>9246.486328</td>\n    </tr>\n    <tr>\n      <th>1</th>\n      <td>2019-09-18</td>\n      <td>9319.454102</td>\n      <td>8917.574219</td>\n      <td>9248.524414</td>\n      <td>9292.973633</td>\n      <td>1.804724e+10</td>\n      <td>9292.973633</td>\n    </tr>\n    <tr>\n      <th>2</th>\n      <td>2019-09-19</td>\n      <td>9334.069336</td>\n      <td>9194.604492</td>\n      <td>9292.886719</td>\n      <td>9239.483398</td>\n      <td>1.337076e+10</td>\n      <td>9239.483398</td>\n    </tr>\n    <tr>\n      <th>3</th>\n      <td>2019-09-20</td>\n      <td>9245.341797</td>\n      <td>9075.292969</td>\n      <td>9241.304688</td>\n      <td>9092.541992</td>\n      <td>1.218296e+10</td>\n      <td>9092.541992</td>\n    </tr>\n    <tr>\n      <th>4</th>\n      <td>2019-09-21</td>\n      <td>9142.628906</td>\n      <td>9004.768555</td>\n      <td>9096.534180</td>\n      <td>9138.951172</td>\n      <td>1.197878e+10</td>\n      <td>9138.951172</td>\n    </tr>\n    <tr>\n      <th>...</th>\n      <td>...</td>\n      <td>...</td>\n      <td>...</td>\n      <td>...</td>\n      <td>...</td>\n      <td>...</td>\n      <td>...</td>\n    </tr>\n    <tr>\n      <th>520</th>\n      <td>2021-02-23</td>\n      <td>44561.277344</td>\n      <td>37269.808594</td>\n      <td>44561.277344</td>\n      <td>40181.332031</td>\n      <td>8.731981e+10</td>\n      <td>40181.332031</td>\n    </tr>\n    <tr>\n      <th>521</th>\n      <td>2021-02-24</td>\n      <td>42211.421875</td>\n      <td>38837.585938</td>\n      <td>40190.105469</td>\n      <td>40844.414062</td>\n      <td>5.234058e+10</td>\n      <td>40844.414062</td>\n    </tr>\n    <tr>\n      <th>522</th>\n      <td>2021-02-25</td>\n      <td>42492.488281</td>\n      <td>38735.164062</td>\n      <td>40847.492188</td>\n      <td>38735.164062</td>\n      <td>4.483220e+10</td>\n      <td>38735.164062</td>\n    </tr>\n    <tr>\n      <th>523</th>\n      <td>2021-02-26</td>\n      <td>40021.406250</td>\n      <td>36636.480469</td>\n      <td>38806.402344</td>\n      <td>38385.910156</td>\n      <td>2.907271e+11</td>\n      <td>38385.910156</td>\n    </tr>\n    <tr>\n      <th>524</th>\n      <td>2021-02-27</td>\n      <td>39930.019531</td>\n      <td>38342.480469</td>\n      <td>38586.417969</td>\n      <td>38859.753906</td>\n      <td>4.158009e+10</td>\n      <td>38859.753906</td>\n    </tr>\n  </tbody>\n</table>\n<p>525 rows × 7 columns</p>\n</div>"
     },
     "metadata": {},
     "execution_count": 5
    }
   ],
   "source": [
    "# Get the stock quote\n",
    "df = web.DataReader(STOCK_TICKER, data_source='yahoo', start=GET_STOCK_FROM_SELECTED_STOCK_START_DATE, end=yesterday_date).reset_index() \n",
    "# reset_index() add the index ('Date') as a column\n",
    "\n",
    "#Show the data\n",
    "df"
   ]
  },
  {
   "cell_type": "code",
   "execution_count": null,
   "metadata": {},
   "outputs": [],
   "source": []
  }
 ]
}