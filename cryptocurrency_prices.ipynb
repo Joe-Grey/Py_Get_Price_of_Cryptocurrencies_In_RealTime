{
 "metadata": {
  "language_info": {
   "codemirror_mode": {
    "name": "ipython",
    "version": 3
   },
   "file_extension": ".py",
   "mimetype": "text/x-python",
   "name": "python",
   "nbconvert_exporter": "python",
   "pygments_lexer": "ipython3",
   "version": "3.9.2-final"
  },
  "orig_nbformat": 2,
  "kernelspec": {
   "name": "python3",
   "display_name": "Python 3.9.2 64-bit ('.venv')",
   "metadata": {
    "interpreter": {
     "hash": "a5987c1c8dd3fc2042e17ca4616beffccadb09bf7f236403be6611b34dda6dc0"
    }
   }
  }
 },
 "nbformat": 4,
 "nbformat_minor": 2,
 "cells": [
  {
   "cell_type": "code",
   "execution_count": 1,
   "metadata": {},
   "outputs": [],
   "source": [
    "CRYPTO_TO_GET_PRICE_FOR = 'bitcoin'"
   ]
  },
  {
   "cell_type": "code",
   "execution_count": 2,
   "metadata": {},
   "outputs": [
    {
     "output_type": "stream",
     "name": "stdout",
     "text": [
      "Requirement already satisfied: ipykernel in ./.venv/lib/python3.9/site-packages (from -r requirements.txt (line 1)) (5.5.0)\n",
      "Requirement already satisfied: requests in ./.venv/lib/python3.9/site-packages (from -r requirements.txt (line 2)) (2.25.1)\n",
      "Requirement already satisfied: beautifulsoup4 in ./.venv/lib/python3.9/site-packages (from -r requirements.txt (line 3)) (4.9.3)\n",
      "Requirement already satisfied: soupsieve>1.2 in ./.venv/lib/python3.9/site-packages (from beautifulsoup4->-r requirements.txt (line 3)) (2.2)\n",
      "Requirement already satisfied: appnope in ./.venv/lib/python3.9/site-packages (from ipykernel->-r requirements.txt (line 1)) (0.1.2)\n",
      "Requirement already satisfied: jupyter-client in ./.venv/lib/python3.9/site-packages (from ipykernel->-r requirements.txt (line 1)) (6.1.11)\n",
      "Requirement already satisfied: ipython>=5.0.0 in ./.venv/lib/python3.9/site-packages (from ipykernel->-r requirements.txt (line 1)) (7.21.0)\n",
      "Requirement already satisfied: traitlets>=4.1.0 in ./.venv/lib/python3.9/site-packages (from ipykernel->-r requirements.txt (line 1)) (5.0.5)\n",
      "Requirement already satisfied: tornado>=4.2 in ./.venv/lib/python3.9/site-packages (from ipykernel->-r requirements.txt (line 1)) (6.1)\n",
      "Requirement already satisfied: prompt-toolkit!=3.0.0,!=3.0.1,<3.1.0,>=2.0.0 in ./.venv/lib/python3.9/site-packages (from ipython>=5.0.0->ipykernel->-r requirements.txt (line 1)) (3.0.16)\n",
      "Requirement already satisfied: pygments in ./.venv/lib/python3.9/site-packages (from ipython>=5.0.0->ipykernel->-r requirements.txt (line 1)) (2.8.0)\n",
      "Requirement already satisfied: setuptools>=18.5 in ./.venv/lib/python3.9/site-packages (from ipython>=5.0.0->ipykernel->-r requirements.txt (line 1)) (52.0.0)\n",
      "Requirement already satisfied: jedi>=0.16 in ./.venv/lib/python3.9/site-packages (from ipython>=5.0.0->ipykernel->-r requirements.txt (line 1)) (0.18.0)\n",
      "Requirement already satisfied: pickleshare in ./.venv/lib/python3.9/site-packages (from ipython>=5.0.0->ipykernel->-r requirements.txt (line 1)) (0.7.5)\n",
      "Requirement already satisfied: decorator in ./.venv/lib/python3.9/site-packages (from ipython>=5.0.0->ipykernel->-r requirements.txt (line 1)) (4.4.2)\n",
      "Requirement already satisfied: pexpect>4.3 in ./.venv/lib/python3.9/site-packages (from ipython>=5.0.0->ipykernel->-r requirements.txt (line 1)) (4.8.0)\n",
      "Requirement already satisfied: backcall in ./.venv/lib/python3.9/site-packages (from ipython>=5.0.0->ipykernel->-r requirements.txt (line 1)) (0.2.0)\n",
      "Requirement already satisfied: parso<0.9.0,>=0.8.0 in ./.venv/lib/python3.9/site-packages (from jedi>=0.16->ipython>=5.0.0->ipykernel->-r requirements.txt (line 1)) (0.8.1)\n",
      "Requirement already satisfied: ptyprocess>=0.5 in ./.venv/lib/python3.9/site-packages (from pexpect>4.3->ipython>=5.0.0->ipykernel->-r requirements.txt (line 1)) (0.7.0)\n",
      "Requirement already satisfied: wcwidth in ./.venv/lib/python3.9/site-packages (from prompt-toolkit!=3.0.0,!=3.0.1,<3.1.0,>=2.0.0->ipython>=5.0.0->ipykernel->-r requirements.txt (line 1)) (0.2.5)\n",
      "Requirement already satisfied: ipython-genutils in ./.venv/lib/python3.9/site-packages (from traitlets>=4.1.0->ipykernel->-r requirements.txt (line 1)) (0.2.0)\n",
      "Requirement already satisfied: chardet<5,>=3.0.2 in ./.venv/lib/python3.9/site-packages (from requests->-r requirements.txt (line 2)) (4.0.0)\n",
      "Requirement already satisfied: urllib3<1.27,>=1.21.1 in ./.venv/lib/python3.9/site-packages (from requests->-r requirements.txt (line 2)) (1.26.3)\n",
      "Requirement already satisfied: idna<3,>=2.5 in ./.venv/lib/python3.9/site-packages (from requests->-r requirements.txt (line 2)) (2.10)\n",
      "Requirement already satisfied: certifi>=2017.4.17 in ./.venv/lib/python3.9/site-packages (from requests->-r requirements.txt (line 2)) (2020.12.5)\n",
      "Requirement already satisfied: python-dateutil>=2.1 in ./.venv/lib/python3.9/site-packages (from jupyter-client->ipykernel->-r requirements.txt (line 1)) (2.8.1)\n",
      "Requirement already satisfied: jupyter-core>=4.6.0 in ./.venv/lib/python3.9/site-packages (from jupyter-client->ipykernel->-r requirements.txt (line 1)) (4.7.1)\n",
      "Requirement already satisfied: pyzmq>=13 in ./.venv/lib/python3.9/site-packages (from jupyter-client->ipykernel->-r requirements.txt (line 1)) (22.0.3)\n",
      "Requirement already satisfied: six>=1.5 in ./.venv/lib/python3.9/site-packages (from python-dateutil>=2.1->jupyter-client->ipykernel->-r requirements.txt (line 1)) (1.15.0)\n",
      "Note: you may need to restart the kernel to use updated packages.\n"
     ]
    }
   ],
   "source": [
    "pip install -r requirements.txt"
   ]
  },
  {
   "cell_type": "code",
   "execution_count": 3,
   "metadata": {},
   "outputs": [],
   "source": [
    "# Import the libarires \n",
    "from bs4 import BeautifulSoup\n",
    "import requests\n",
    "import time\n",
    "import datetime as dt"
   ]
  },
  {
   "cell_type": "code",
   "execution_count": 4,
   "metadata": {},
   "outputs": [],
   "source": [
    "class bcolours:\n",
    "    HEADER = '\\033[95m'\n",
    "    WHITE = '\\033[37m'\n",
    "    OKBLUE = '\\033[94m'\n",
    "    OKCYAN = '\\033[96m'\n",
    "    OKGREEN = '\\033[92m'\n",
    "    WARNING = '\\033[93m'\n",
    "    FAIL = '\\033[91m'\n",
    "    ENDC = '\\033[0m'\n",
    "    BOLD = '\\033[1m'\n",
    "    UNDERLINE = '\\033[4m'"
   ]
  },
  {
   "cell_type": "code",
   "execution_count": 5,
   "metadata": {},
   "outputs": [],
   "source": [
    "# Create a function to get the price of a crypto currency\n",
    "def get_crypto_price(coin):\n",
    "    # Get the URL thatcontains the price of the cryptocurrency\n",
    "    url = f'https://www.google.com/search?q={coin}+price'\n",
    "\n",
    "    #Make request to website\n",
    "    HTML = requests.get(url)\n",
    "\n",
    "    #Parse the HTML\n",
    "    soup = BeautifulSoup(HTML.text, 'html.parser')\n",
    "\n",
    "    #Find/scrape the current price\n",
    "    text = soup.find('div', attrs={'class':'BNeawe iBp4i AP7Wnd'}).text\n",
    "\n",
    "    #Return the text\n",
    "    return text"
   ]
  },
  {
   "cell_type": "code",
   "execution_count": 6,
   "metadata": {},
   "outputs": [],
   "source": [
    "# Create a function to consistently show the price of the cryptocurrency when it changes\n",
    "def main():\n",
    "    last_price = -1\n",
    "    # Create a loop to continuosly show the price\n",
    "    while True:\n",
    "        try:\n",
    "            #Get the price of the cryptocurrency\n",
    "            price = get_crypto_price(CRYPTO_TO_GET_PRICE_FOR)\n",
    "            price_val = float(''.join(filter(str.isdigit, price)))\n",
    "            #Check if price has changed\n",
    "            if price_val != last_price:\n",
    "                if price_val < last_price:\n",
    "                    print(bcolours.WARNING + str(CRYPTO_TO_GET_PRICE_FOR).upper() + bcolours.WHITE + ' price: ' + bcolours.FAIL + str(price) + bcolours.WHITE + ' ' + str(dt.datetime.now()))\n",
    "                    last_price = price_val\n",
    "                elif price_val > last_price:\n",
    "                    print(bcolours.WARNING + str(CRYPTO_TO_GET_PRICE_FOR).upper() + bcolours.WHITE + ' price: ' + bcolours.OKGREEN + str(price) + bcolours.WHITE + ' ' + str(dt.datetime.now()))\n",
    "                    last_price = price_val\n",
    "            time.sleep(3)\n",
    "        except:\n",
    "            print(f'{bcolours.FAIL}ERROR scraping for: ' + CRYPTO_TO_GET_PRICE_FOR)\n",
    "            break"
   ]
  },
  {
   "cell_type": "code",
   "execution_count": 7,
   "metadata": {},
   "outputs": [
    {
     "output_type": "stream",
     "name": "stdout",
     "text": [
      "\u001b[93mBITCOIN\u001b[37m price: \u001b[92m39,484.43 Euro\u001b[37m 2021-02-27 12:44:40.135105\n"
     ]
    }
   ],
   "source": [
    "#run/execute the main function\n",
    "main()"
   ]
  },
  {
   "cell_type": "code",
   "execution_count": null,
   "metadata": {},
   "outputs": [],
   "source": []
  }
 ]
}